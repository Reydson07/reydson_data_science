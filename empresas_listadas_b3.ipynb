{
 "cells": [
  {
   "cell_type": "code",
   "execution_count": 1,
   "id": "3d7c7173",
   "metadata": {},
   "outputs": [],
   "source": [
    "#https://www.b3.com.br/pt_br/produtos-e-servicos/negociacao/renda-variavel/empresas-listadas.htm"
   ]
  },
  {
   "cell_type": "code",
   "execution_count": 2,
   "id": "2fd84a48",
   "metadata": {},
   "outputs": [],
   "source": [
    "import pandas as pd"
   ]
  },
  {
   "cell_type": "code",
   "execution_count": 3,
   "id": "f3462630",
   "metadata": {},
   "outputs": [],
   "source": [
    "#calendário de eventos corporativos\n",
    "url=\"https://www.b3.com.br/data/files/F5/E5/E7/3A/0EB2E7108BD66BD7AC094EA8/Cronograma%20de%20Eventos%20Corporativos%202022.xlsx\""
   ]
  },
  {
   "cell_type": "code",
   "execution_count": 4,
   "id": "a922a139",
   "metadata": {},
   "outputs": [
    {
     "name": "stdout",
     "output_type": "stream",
     "text": [
      "Última atualização pela B3: 2022-09-23 00:00:00\n"
     ]
    }
   ],
   "source": [
    "base=pd.read_excel(url)\n",
    "atualizacao_B3=base.columns[28]\n",
    "print(f\"Última atualização pela B3: {atualizacao_B3}\")"
   ]
  },
  {
   "cell_type": "code",
   "execution_count": 5,
   "id": "0c0b6e11",
   "metadata": {},
   "outputs": [
    {
     "name": "stdout",
     "output_type": "stream",
     "text": [
      "Nessa base da B3 temos 289 observações e 29 atributos\n"
     ]
    }
   ],
   "source": [
    "#print(base.isnull().sum())\n",
    "print(f\"Nessa base da B3 temos {base.shape[0]} observações e {base.shape[1]} atributos\")"
   ]
  },
  {
   "cell_type": "code",
   "execution_count": 6,
   "id": "ea40ba20",
   "metadata": {},
   "outputs": [],
   "source": [
    "#apagando as linhas sujas\n",
    "base.drop([0,1], axis=0, inplace=True)"
   ]
  },
  {
   "cell_type": "code",
   "execution_count": 7,
   "id": "b01c0364",
   "metadata": {},
   "outputs": [],
   "source": [
    "#Converter as colunas de object para seus valores corretos\n",
    "#base.iloc[:,i]=pd.to_datetime(base.iloc[:,i])\n",
    "#base.head()"
   ]
  },
  {
   "cell_type": "markdown",
   "id": "1abdcfa5",
   "metadata": {},
   "source": [
    "# Nosso objetivo é analisar as datas de resultados do 2° Trimestre de 2022"
   ]
  },
  {
   "cell_type": "code",
   "execution_count": 8,
   "id": "fdd7f198",
   "metadata": {},
   "outputs": [],
   "source": [
    "nome=base.iloc[:,0]\n",
    "segmento=base.iloc[:,1]\n",
    "#Resultados do 2° trimestre\n",
    "previsao=base.iloc[:,14]\n",
    "entrega=base.iloc[:,15]\n",
    "#Nosso DataFrime\n",
    "DF2tri=pd.DataFrame({\n",
    "    'Nome':nome,\n",
    "    'Governanca_B3':segmento,\n",
    "    'Previsao':previsao,\n",
    "    'Entrega':entrega})\n",
    "#DF2tri.info()"
   ]
  },
  {
   "cell_type": "code",
   "execution_count": 9,
   "id": "fb262e2b",
   "metadata": {
    "scrolled": true
   },
   "outputs": [],
   "source": [
    "#Infelizmente temos nas duas colunas de datas uma verdadeira bagunça!\n",
    "#Alguns valores são object e outros são datetime. Alguns estão no formato do Brasil e outros não\n",
    "#Vamos converter para que todos os valores fiquem no mesmo formato YYYY-MM-DD\n",
    "\n",
    "def conversor_datas(coluna):\n",
    "    dados=list(DF2tri[coluna])\n",
    "    datas=[str(item) for item in dados]\n",
    "    data_limpa=[]\n",
    "    for i in datas:\n",
    "        if len(i)==3:\n",
    "               data_limpa.append(i) \n",
    "        elif i[4]==\"-\":\n",
    "                data_limpa.append(i)\n",
    "        else:\n",
    "                ano=i[6:]#ano\n",
    "                mes=i[3:5]#mes\n",
    "                dia=i[:2]#dia\n",
    "                data_limpa.append(ano+'-'+mes+'-'+dia)\n",
    "    return data_limpa\n",
    "\n",
    "#data_limpa[0:9]"
   ]
  },
  {
   "cell_type": "code",
   "execution_count": 10,
   "id": "548a849c",
   "metadata": {},
   "outputs": [],
   "source": [
    "data_prevista=conversor_datas(\"Previsao\")\n",
    "data_entrega=conversor_datas(\"Entrega\")\n",
    "\n",
    "DF2tri['Previsao']=data_prevista\n",
    "DF2tri['Entrega']=data_entrega\n",
    "\n",
    "#ajustando os tipos de dados em nosso DataFrame\n",
    "#Youtube: https://www.youtube.com/watch?v=CHQXsSR3CkA\n",
    "DF2tri[\"Previsao\"]=pd.to_datetime(DF2tri[\"Previsao\"])\n",
    "DF2tri[\"Entrega\"]=pd.to_datetime(DF2tri[\"Entrega\"])\n",
    "\n",
    "#DF2tri.head()"
   ]
  },
  {
   "cell_type": "code",
   "execution_count": 11,
   "id": "ce64d0d3",
   "metadata": {},
   "outputs": [
    {
     "name": "stdout",
     "output_type": "stream",
     "text": [
      "Número de empresas que já divulgaram seus resultados: 281\n"
     ]
    }
   ],
   "source": [
    "nulos=DF2tri[\"Entrega\"].isnull().sum()\n",
    "tam=DF2tri.shape[0]\n",
    "print(f\"Número de empresas que já divulgaram seus resultados: {tam-nulos}\")"
   ]
  },
  {
   "cell_type": "code",
   "execution_count": 12,
   "id": "46d4590d",
   "metadata": {},
   "outputs": [],
   "source": [
    "#vamos ordenar nosso DataFrame para seguir a ordem de data\n",
    "#df_ordenado = df.sort_values(by='Data')\n",
    "DF2tri=DF2tri.sort_values(by='Previsao')\n",
    "\n",
    "#ordenando as empresas por ordem de resultado pelo índice\n",
    "DF2tri.index=range(1,DF2tri.shape[0]+1)\n",
    "\n",
    "#filtered_df = DF2tri[DF2tri.Previsao.eq(\"AERIS\")]\n",
    "#filtered_df\n",
    "#DF2tri"
   ]
  },
  {
   "cell_type": "markdown",
   "id": "739ba741",
   "metadata": {},
   "source": [
    "\n",
    "# A partir daqui faremos as filtragens necessárias."
   ]
  },
  {
   "cell_type": "code",
   "execution_count": 13,
   "id": "34dd538f",
   "metadata": {},
   "outputs": [],
   "source": [
    "import datetime as dt"
   ]
  },
  {
   "cell_type": "code",
   "execution_count": 14,
   "id": "554bf13e",
   "metadata": {},
   "outputs": [
    {
     "data": {
      "text/html": [
       "<div>\n",
       "<style scoped>\n",
       "    .dataframe tbody tr th:only-of-type {\n",
       "        vertical-align: middle;\n",
       "    }\n",
       "\n",
       "    .dataframe tbody tr th {\n",
       "        vertical-align: top;\n",
       "    }\n",
       "\n",
       "    .dataframe thead th {\n",
       "        text-align: right;\n",
       "    }\n",
       "</style>\n",
       "<table border=\"1\" class=\"dataframe\">\n",
       "  <thead>\n",
       "    <tr style=\"text-align: right;\">\n",
       "      <th></th>\n",
       "      <th>Nome</th>\n",
       "      <th>Governanca_B3</th>\n",
       "      <th>Previsao</th>\n",
       "      <th>Entrega</th>\n",
       "      <th>Ano_prev</th>\n",
       "      <th>Mes_prev</th>\n",
       "      <th>Dia_prev</th>\n",
       "    </tr>\n",
       "  </thead>\n",
       "  <tbody>\n",
       "    <tr>\n",
       "      <th>1</th>\n",
       "      <td>ROMI</td>\n",
       "      <td>NM</td>\n",
       "      <td>2022-07-19</td>\n",
       "      <td>2022-07-19</td>\n",
       "      <td>2022</td>\n",
       "      <td>7</td>\n",
       "      <td>19</td>\n",
       "    </tr>\n",
       "    <tr>\n",
       "      <th>2</th>\n",
       "      <td>WEG</td>\n",
       "      <td>NM</td>\n",
       "      <td>2022-07-20</td>\n",
       "      <td>2022-07-20</td>\n",
       "      <td>2022</td>\n",
       "      <td>7</td>\n",
       "      <td>20</td>\n",
       "    </tr>\n",
       "    <tr>\n",
       "      <th>3</th>\n",
       "      <td>NEOENERGIA</td>\n",
       "      <td>NM</td>\n",
       "      <td>2022-07-26</td>\n",
       "      <td>2022-07-26</td>\n",
       "      <td>2022</td>\n",
       "      <td>7</td>\n",
       "      <td>26</td>\n",
       "    </tr>\n",
       "    <tr>\n",
       "      <th>4</th>\n",
       "      <td>CARREFOUR BR</td>\n",
       "      <td>NM</td>\n",
       "      <td>2022-07-26</td>\n",
       "      <td>2022-07-26</td>\n",
       "      <td>2022</td>\n",
       "      <td>7</td>\n",
       "      <td>26</td>\n",
       "    </tr>\n",
       "    <tr>\n",
       "      <th>5</th>\n",
       "      <td>SUZANO S.A.</td>\n",
       "      <td>NM</td>\n",
       "      <td>2022-07-27</td>\n",
       "      <td>2022-07-27</td>\n",
       "      <td>2022</td>\n",
       "      <td>7</td>\n",
       "      <td>27</td>\n",
       "    </tr>\n",
       "  </tbody>\n",
       "</table>\n",
       "</div>"
      ],
      "text/plain": [
       "           Nome Governanca_B3   Previsao    Entrega  Ano_prev  Mes_prev  \\\n",
       "1          ROMI            NM 2022-07-19 2022-07-19      2022         7   \n",
       "2           WEG            NM 2022-07-20 2022-07-20      2022         7   \n",
       "3    NEOENERGIA            NM 2022-07-26 2022-07-26      2022         7   \n",
       "4  CARREFOUR BR            NM 2022-07-26 2022-07-26      2022         7   \n",
       "5   SUZANO S.A.            NM 2022-07-27 2022-07-27      2022         7   \n",
       "\n",
       "   Dia_prev  \n",
       "1        19  \n",
       "2        20  \n",
       "3        26  \n",
       "4        26  \n",
       "5        27  "
      ]
     },
     "execution_count": 14,
     "metadata": {},
     "output_type": "execute_result"
    }
   ],
   "source": [
    "DF2tri[\"Ano_prev\"]=DF2tri['Previsao'].dt.year\n",
    "DF2tri[\"Mes_prev\"]=DF2tri['Previsao'].dt.month\n",
    "DF2tri[\"Dia_prev\"]=DF2tri['Previsao'].dt.day\n",
    "DF2tri.loc[0:5]\n",
    "#Ephafarma"
   ]
  },
  {
   "cell_type": "code",
   "execution_count": 15,
   "id": "845a048b",
   "metadata": {},
   "outputs": [
    {
     "data": {
      "text/plain": [
       "Nome             287\n",
       "Governanca_B3    268\n",
       "Previsao         287\n",
       "Entrega          281\n",
       "Ano_prev         287\n",
       "Mes_prev         287\n",
       "Dia_prev         287\n",
       "dtype: int64"
      ]
     },
     "execution_count": 15,
     "metadata": {},
     "output_type": "execute_result"
    }
   ],
   "source": [
    "#dt.time.time()\n",
    "#a=DF2tri['Previsao']-hoje\n",
    "DF2tri.count()"
   ]
  },
  {
   "cell_type": "code",
   "execution_count": 16,
   "id": "851a1a7d",
   "metadata": {},
   "outputs": [
    {
     "data": {
      "text/plain": [
       "{'7/2022': 27,\n",
       " '8/2022': 251,\n",
       " '9/2022': 1,\n",
       " '10/2022': 3,\n",
       " '11/2022': 4,\n",
       " '2/2023': 1}"
      ]
     },
     "execution_count": 16,
     "metadata": {},
     "output_type": "execute_result"
    }
   ],
   "source": [
    "#Vamos criar um dicionário com a distribuição de datas para cada resultado\n",
    "#manipulador=DF2tri.loc[DF2tri[\"Mes_prev\"]==7].count()\n",
    "\n",
    "mes_unico=DF2tri['Mes_prev'].unique()\n",
    "ano_unico=DF2tri['Ano_prev'].unique()\n",
    "dist_datas={}\n",
    "\n",
    "for i in mes_unico:\n",
    "    for b in ano_unico:\n",
    "        manipulador=DF2tri.query(f\"Mes_prev=={i} & Ano_prev=={b}\")\n",
    "        if manipulador.shape[0]==0:\n",
    "            continue\n",
    "            #manipulador=DF2tri.loc[DF2tri[\"Mes_prev\"]==i].count()\n",
    "        else:\n",
    "            dist_datas[str(i)+'/'+str(b)]=manipulador.shape[0]\n",
    "\n",
    "dist_datas\n"
   ]
  },
  {
   "cell_type": "code",
   "execution_count": 17,
   "id": "7806800c",
   "metadata": {},
   "outputs": [],
   "source": [
    "#pd.to_excel(\"calendario_bolsa.xltx\",DF2tri)\n",
    "#DF2tri.to_excel(\"calendario_bolsa.xlsx\")"
   ]
  },
  {
   "cell_type": "markdown",
   "id": "5d9b5874",
   "metadata": {},
   "source": [
    "# Nessa parte, usaremos uma nova base com informações de setores providas pela B3 para classificarmos as empresas."
   ]
  },
  {
   "cell_type": "code",
   "execution_count": 18,
   "id": "e3f60425",
   "metadata": {},
   "outputs": [],
   "source": [
    "import zipfile\n",
    "# ver documentação da Lib zipfile sempre que precisar: https://docs.python.org/3/library/zipfile.html"
   ]
  },
  {
   "cell_type": "code",
   "execution_count": 19,
   "id": "8cfd0b76",
   "metadata": {},
   "outputs": [],
   "source": [
    "#Endereço na B3\n",
    "file=r\"https://bvmf.bmfbovespa.com.br/InstDados/InformacoesEmpresas/ClassifSetorial.zip\"\n",
    "\n",
    "#vamos abrir um arquivo Zip e vamos descompactá-lo\n",
    "#sabemos que nessa pasta da B3 existe apenas uma planilha com a classificação setorial\n",
    "name=\"ClassifSetorial.zip\"#o nome do arquivo zip que vem da B3\n",
    "with zipfile.ZipFile(name, 'r') as myzip:\n",
    "        arquivo_listagem=myzip.namelist()\n",
    "        myzip.extract(arquivo_listagem[0], path=None, pwd=None)\n",
    "\n",
    "#depois de descompactar abriremos um dataframe com o arquivo da B3\n",
    "base_setorial=pd.read_excel(arquivo_listagem[0])"
   ]
  },
  {
   "cell_type": "code",
   "execution_count": 20,
   "id": "cc36d6df",
   "metadata": {},
   "outputs": [
    {
     "name": "stdout",
     "output_type": "stream",
     "text": [
      "Última atualização setorial da B3: 24-06-2022\n"
     ]
    }
   ],
   "source": [
    "nome=arquivo_listagem[0]\n",
    "atualizacao=nome[12:22]\n",
    "print(f\"Última atualização setorial da B3: {atualizacao}\")"
   ]
  },
  {
   "cell_type": "markdown",
   "id": "fc65309d",
   "metadata": {},
   "source": [
    "Vamos dar uma purificada nesta base."
   ]
  },
  {
   "cell_type": "code",
   "execution_count": 23,
   "id": "091ff149",
   "metadata": {
    "scrolled": false
   },
   "outputs": [
    {
     "name": "stdout",
     "output_type": "stream",
     "text": [
      "Quantidade inicial: 600\n",
      "Quantidade final: 600\n"
     ]
    },
    {
     "data": {
      "text/html": [
       "<div>\n",
       "<style scoped>\n",
       "    .dataframe tbody tr th:only-of-type {\n",
       "        vertical-align: middle;\n",
       "    }\n",
       "\n",
       "    .dataframe tbody tr th {\n",
       "        vertical-align: top;\n",
       "    }\n",
       "\n",
       "    .dataframe thead th {\n",
       "        text-align: right;\n",
       "    }\n",
       "</style>\n",
       "<table border=\"1\" class=\"dataframe\">\n",
       "  <thead>\n",
       "    <tr style=\"text-align: right;\">\n",
       "      <th></th>\n",
       "      <th>linha_0</th>\n",
       "      <th>linha_1</th>\n",
       "      <th>linha_2</th>\n",
       "      <th>linha_3</th>\n",
       "      <th>linha_4</th>\n",
       "    </tr>\n",
       "  </thead>\n",
       "  <tbody>\n",
       "    <tr>\n",
       "      <th>0</th>\n",
       "      <td>SETOR ECONÔMICO</td>\n",
       "      <td>SUBSETOR</td>\n",
       "      <td>SEGMENTO</td>\n",
       "      <td>LISTAGEM</td>\n",
       "      <td>NaN</td>\n",
       "    </tr>\n",
       "    <tr>\n",
       "      <th>1</th>\n",
       "      <td>NaN</td>\n",
       "      <td>NaN</td>\n",
       "      <td>NaN</td>\n",
       "      <td>CÓDIGO</td>\n",
       "      <td>SEGMENTO</td>\n",
       "    </tr>\n",
       "    <tr>\n",
       "      <th>2</th>\n",
       "      <td>Petróleo, Gás e Biocombustíveis</td>\n",
       "      <td>Petróleo, Gás e Biocombustíveis</td>\n",
       "      <td>Exploração, Refino e Distribuição</td>\n",
       "      <td>NaN</td>\n",
       "      <td>NaN</td>\n",
       "    </tr>\n",
       "    <tr>\n",
       "      <th>3</th>\n",
       "      <td>NaN</td>\n",
       "      <td>NaN</td>\n",
       "      <td>3R PETROLEUM</td>\n",
       "      <td>RRRP</td>\n",
       "      <td>NM</td>\n",
       "    </tr>\n",
       "    <tr>\n",
       "      <th>4</th>\n",
       "      <td>NaN</td>\n",
       "      <td>NaN</td>\n",
       "      <td>COSAN</td>\n",
       "      <td>CSAN</td>\n",
       "      <td>NM</td>\n",
       "    </tr>\n",
       "    <tr>\n",
       "      <th>5</th>\n",
       "      <td>NaN</td>\n",
       "      <td>NaN</td>\n",
       "      <td>DOMMO</td>\n",
       "      <td>DMMO</td>\n",
       "      <td>NaN</td>\n",
       "    </tr>\n",
       "    <tr>\n",
       "      <th>6</th>\n",
       "      <td>NaN</td>\n",
       "      <td>NaN</td>\n",
       "      <td>ENAUTA PART</td>\n",
       "      <td>ENAT</td>\n",
       "      <td>NM</td>\n",
       "    </tr>\n",
       "    <tr>\n",
       "      <th>7</th>\n",
       "      <td>NaN</td>\n",
       "      <td>NaN</td>\n",
       "      <td>PET MANGUINH</td>\n",
       "      <td>RPMG</td>\n",
       "      <td>NaN</td>\n",
       "    </tr>\n",
       "    <tr>\n",
       "      <th>8</th>\n",
       "      <td>NaN</td>\n",
       "      <td>NaN</td>\n",
       "      <td>PETROBRAS</td>\n",
       "      <td>PETR</td>\n",
       "      <td>N2</td>\n",
       "    </tr>\n",
       "    <tr>\n",
       "      <th>9</th>\n",
       "      <td>NaN</td>\n",
       "      <td>NaN</td>\n",
       "      <td>PETRORECSA</td>\n",
       "      <td>RECV</td>\n",
       "      <td>NM</td>\n",
       "    </tr>\n",
       "  </tbody>\n",
       "</table>\n",
       "</div>"
      ],
      "text/plain": [
       "                           linha_0                          linha_1  \\\n",
       "0                  SETOR ECONÔMICO                         SUBSETOR   \n",
       "1                              NaN                              NaN   \n",
       "2  Petróleo, Gás e Biocombustíveis  Petróleo, Gás e Biocombustíveis   \n",
       "3                              NaN                              NaN   \n",
       "4                              NaN                              NaN   \n",
       "5                              NaN                              NaN   \n",
       "6                              NaN                              NaN   \n",
       "7                              NaN                              NaN   \n",
       "8                              NaN                              NaN   \n",
       "9                              NaN                              NaN   \n",
       "\n",
       "                             linha_2   linha_3          linha_4  \n",
       "0                           SEGMENTO  LISTAGEM              NaN  \n",
       "1                                NaN    CÓDIGO         SEGMENTO  \n",
       "2  Exploração, Refino e Distribuição       NaN              NaN  \n",
       "3                       3R PETROLEUM      RRRP  NM               \n",
       "4                       COSAN             CSAN  NM               \n",
       "5                              DOMMO      DMMO              NaN  \n",
       "6                        ENAUTA PART      ENAT  NM               \n",
       "7                       PET MANGUINH      RPMG              NaN  \n",
       "8                       PETROBRAS         PETR               N2  \n",
       "9                        PETRORECSA       RECV  NM               "
      ]
     },
     "execution_count": 23,
     "metadata": {},
     "output_type": "execute_result"
    }
   ],
   "source": [
    "print(f\"Quantidade inicial: {base_setorial.shape[0]}\")\n",
    "base_setorial.dropna(axis=0,how=\"all\",inplace=True) #vamos remover linhas vazias\n",
    "print(f\"Quantidade final: {base_setorial.shape[0]}\")\n",
    "\n",
    "#como  removemos linhas vazias bagunçamos com o index do dataframe.\n",
    "#Vamos então arrumar isso, refazendo o index\n",
    "tam=base_setorial.shape[0]\n",
    "base_setorial.index=range(0,tam,1)\n",
    "\n",
    "#Vamos arrumar o título do dataframe também\n",
    "titulo=[\"linha_0\",\"linha_1\",\"linha_2\",\"linha_3\",\"linha_4\"]\n",
    "base_setorial.columns=titulo\n",
    "\n",
    "#pronto, agora temos uma base com o index arrumado e livre de linhas 100% vazias\n",
    "base_setorial.head(10)\n"
   ]
  },
  {
   "cell_type": "code",
   "execution_count": 31,
   "id": "009eec2e",
   "metadata": {},
   "outputs": [
    {
     "data": {
      "text/plain": [
       "'\\n#Vamos ccriar um dataframe que receberá a listagem das empresas de forma mais limpa e legível.\\n#base_setorial.drop([0,1], axis=0, inplace=True)\\nalvo=base_setorial.iloc[0,:]\\nfor i in range(base_setorial.shape[0]):\\n        comparador=base_setorial.iloc[i,:]\\n        if alvo==comparador:\\n            print(i)\\n            break\\n'"
      ]
     },
     "execution_count": 31,
     "metadata": {},
     "output_type": "execute_result"
    }
   ],
   "source": [
    "'''\n",
    "#Vamos ccriar um dataframe que receberá a listagem das empresas de forma mais limpa e legível.\n",
    "#base_setorial.drop([0,1], axis=0, inplace=True)\n",
    "alvo=base_setorial.iloc[0,:]\n",
    "for i in range(base_setorial.shape[0]):\n",
    "        comparador=base_setorial.iloc[i,:]\n",
    "        if alvo==comparador:\n",
    "            print(i)\n",
    "            break\n",
    "'''"
   ]
  },
  {
   "cell_type": "code",
   "execution_count": 27,
   "id": "9cf8451a",
   "metadata": {},
   "outputs": [],
   "source": [
    "#apagando as linhas sujas\n",
    "#base_setorial.drop([0,5], axis=0, inplace=True)\n",
    "titulos_1=base_setorial.iloc[5,:3]\n",
    "titulos_2=base_setorial.iloc[6,3:]\n",
    "base_setorial_B3=pd.DataFrame()"
   ]
  },
  {
   "cell_type": "code",
   "execution_count": 28,
   "id": "9211af80",
   "metadata": {},
   "outputs": [],
   "source": [
    "lista=[1,2,3,4]\n",
    "base_setorial_B3[\"Setor\"]=lista\n",
    "base_setorial_B3[\"Segmento\"]=lista\n",
    "base_setorial_B3\n",
    "\n",
    "titulo=[\"Setor\",\"Subsetor\",\"Segmento\",\"Listagem_Codigo\",\"Listagem_Governanca\"]"
   ]
  },
  {
   "cell_type": "code",
   "execution_count": 30,
   "id": "5f1fbe18",
   "metadata": {},
   "outputs": [
    {
     "data": {
      "text/plain": [
       "\"\\nbase_setorial.head(10)\\n\\n#construiremos uma DataFrime com os dados lipos das empresas\\nDF_setorial_B3=pd.DataFrame({\\n    'Setor':None,\\n    'Subsetor':None,\\n    'Segmento':None,\\n    'Listagem_Codigo':None,\\n    'Listagem_governanca':None})\\nDF_setorial_B3\\n\""
      ]
     },
     "execution_count": 30,
     "metadata": {},
     "output_type": "execute_result"
    }
   ],
   "source": [
    "'''\n",
    "base_setorial.head(10)\n",
    "\n",
    "#construiremos uma DataFrime com os dados lipos das empresas\n",
    "DF_setorial_B3=pd.DataFrame({\n",
    "    'Setor':None,\n",
    "    'Subsetor':None,\n",
    "    'Segmento':None,\n",
    "    'Listagem_Codigo':None,\n",
    "    'Listagem_governanca':None})\n",
    "DF_setorial_B3\n",
    "'''"
   ]
  },
  {
   "cell_type": "markdown",
   "id": "122b2e86",
   "metadata": {},
   "source": [
    "# Vamos carregar as informações do calendário de resultados em um banco de dados."
   ]
  },
  {
   "cell_type": "code",
   "execution_count": 32,
   "id": "b105e933",
   "metadata": {},
   "outputs": [],
   "source": [
    "import sqlite3\n",
    "import random\n",
    "import datetime\n",
    "import matplotlib.pyplot as plt\n",
    "%matplotlib notebook\n",
    " \n",
    "# Criando uma conexão\n",
    "conn = sqlite3.connect('result_2T22.db')   \n",
    "\n",
    "# Criando um cursor\n",
    "c = conn.cursor()\n",
    " \n",
    "# Função para criar uma tabela\n",
    "def create_table():\n",
    "    c.execute('CREATE TABLE IF NOT EXISTS produtos(id INTEGER PRIMARY KEY AUTOINCREMENT NOT NULL, date TEXT, '\\\n",
    "              'prod_name TEXT, valor REAL)')\n",
    "     \n",
    "# Função para inserir uma linha\n",
    "def data_insert():\n",
    "    c.execute(\"INSERT INTO produtos VALUES(now, 'Teclado', 130 )\")\n",
    "    conn.commit()\n",
    "    c.close()\n",
    "    conn.close()\n",
    "    \n",
    "# Usando variáveis para inserir dados    \n",
    "def data_insert_var():\n",
    "    new_date = datetime.datetime.now()\n",
    "    new_prod_name = 'monitor'\n",
    "    new_valor = random.randrange(50,100)\n",
    "    c.execute(\"INSERT INTO produtos (date, prod_name, valor) VALUES (?, ?, ?, ?)\", \n",
    "              (new_date, new_prod_name, new_valor))\n",
    "    conn.commit()\n",
    "    \n",
    "# Leitura de dados\n",
    "def leitura_todos_dados():\n",
    "    c.execute(\"SELECT * FROM PRODUTOS\")\n",
    "    for linha in c.fetchall():\n",
    "        print(linha)\n",
    "        \n",
    "# Leitura de registros específicos\n",
    "def leitura_registros():\n",
    "    c.execute(\"SELECT * FROM PRODUTOS WHERE valor > 60.0\")\n",
    "    for linha in c.fetchall():\n",
    "        print(linha)      \n",
    "        \n",
    "# Leitura de colunas específicos\n",
    "def leitura_colunas():\n",
    "    c.execute(\"SELECT * FROM PRODUTOS\")\n",
    "    for linha in c.fetchall():\n",
    "        print(linha[3])  \n",
    "        \n",
    "# Update\n",
    "def atualiza_dados():\n",
    "    c.execute(\"UPDATE produtos SET valor = 70.00 WHERE valor > 80.0\")\n",
    "    conn.commit()\n",
    "    \n",
    "# Delete\n",
    "def remove_dados():\n",
    "    c.execute(\"DELETE FROM produtos WHERE valor = 62.0\")\n",
    "    conn.commit()"
   ]
  }
 ],
 "metadata": {
  "kernelspec": {
   "display_name": "Python 3 (ipykernel)",
   "language": "python",
   "name": "python3"
  },
  "language_info": {
   "codemirror_mode": {
    "name": "ipython",
    "version": 3
   },
   "file_extension": ".py",
   "mimetype": "text/x-python",
   "name": "python",
   "nbconvert_exporter": "python",
   "pygments_lexer": "ipython3",
   "version": "3.9.12"
  }
 },
 "nbformat": 4,
 "nbformat_minor": 5
}
