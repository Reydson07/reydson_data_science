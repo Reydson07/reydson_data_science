{
 "cells": [
  {
   "cell_type": "markdown",
   "id": "83cc47a4",
   "metadata": {},
   "source": [
    "# Manipulando dados direto da Infraero"
   ]
  },
  {
   "cell_type": "markdown",
   "id": "6bc26fe1",
   "metadata": {},
   "source": [
    "Queremos encontrar uma série histórica com o número de pousos (pouso_brasil) e decolagens (decolagem_brasil)."
   ]
  },
  {
   "cell_type": "markdown",
   "id": "81595b7c",
   "metadata": {},
   "source": [
    "# Parte 1: Buscando dado no site da Infraero"
   ]
  },
  {
   "cell_type": "code",
   "execution_count": 1,
   "id": "52c2cbd6",
   "metadata": {},
   "outputs": [],
   "source": [
    "#Planilha de acompanhamento de pousos nos aeroportos da Infraero\n",
    "#Dados mensais referente a pousos e decolagens, nacionais e internacionais\n",
    "#site: https://transparencia.infraero.gov.br/estatisticas/\n",
    "\n",
    "#abas da planilha:\n",
    "#Aeronaves\n",
    "#Carga Aérea\n",
    "#Correios\n",
    "#Passageiros\n",
    "\n",
    "import pandas as pd"
   ]
  },
  {
   "cell_type": "markdown",
   "id": "c56d72c5",
   "metadata": {},
   "source": [
    "# Parte 2: Limpeza e manipulação da base"
   ]
  },
  {
   "cell_type": "code",
   "execution_count": 2,
   "id": "f1981198",
   "metadata": {},
   "outputs": [],
   "source": [
    "def limpeza_dados(base_1): #recebe um dataframe\n",
    "    #Extraindo informações relevantes\n",
    "    vigencia_dados=base_1.iloc[1,1]#informação sobre qual o mês utilizado na mensuração desse resultado\n",
    "    elaborada_dados=base_1.iloc[2,7]#informação sobre quando foi finalizada essa planilha\n",
    "\n",
    "    #Dando uma primmeira limpeza na base\n",
    "    base_1 = base_1.dropna(how='all').dropna(how='all', axis=1)#remove todas linhas e colunas vazias\n",
    "\n",
    "    #Coletando a coluna verdadeira e aletrando o nome\n",
    "    a=base_1.iloc[3,:]\n",
    "    base_1.columns=a\n",
    "\n",
    "    #Dando segunda limpeza de valores missing\n",
    "    base_1.drop(labels=[0,1,2,3],axis=0,inplace=True)\n",
    "\n",
    "    #Ajustando o índice\n",
    "    base_1.index=range(base_1.shape[0])\n",
    "    \n",
    "    return base_1,vigencia_dados,elaborada_dados"
   ]
  },
  {
   "cell_type": "markdown",
   "id": "43a477d7",
   "metadata": {},
   "source": [
    "Infelizmente nossos dados estão em formato distinto do esperado, como mostrado abaixo. Precisamos trocar os valores object por numéricos nos campos quantitativos."
   ]
  },
  {
   "cell_type": "code",
   "execution_count": 3,
   "id": "f3261ba9",
   "metadata": {},
   "outputs": [],
   "source": [
    "#Você pode vizualizar os valores int como object no comando abaixo\n",
    "#base_1.info()"
   ]
  },
  {
   "cell_type": "code",
   "execution_count": 4,
   "id": "31bc5056",
   "metadata": {},
   "outputs": [],
   "source": [
    "#Vamos remover os espaços vazios dos títulos da coluna\n",
    "def remove_vazio(x): #recebe um dataframe\n",
    "    a=[]\n",
    "    for i in list(x.columns):\n",
    "        a.append(i.strip()) #função .strip() apaga valores vazios na string no inicio e fim\n",
    "    x.columns=a\n",
    "    return x #retorna o mesmo dataframe com nome de colunas livre de espaços vazios"
   ]
  },
  {
   "cell_type": "code",
   "execution_count": 5,
   "id": "74c6599c",
   "metadata": {},
   "outputs": [],
   "source": [
    "#removendo espaços fazios\n",
    "#base_1=remove_vazio(base_1)"
   ]
  },
  {
   "cell_type": "code",
   "execution_count": 6,
   "id": "f52c8588",
   "metadata": {},
   "outputs": [],
   "source": [
    "#Vamos converter as colunas\n",
    "#como estamos tratando de contagens trasnformaremos em valores Int\n",
    "def para_numero(x):#recebe um dataframe\n",
    "    a=list(x.columns)\n",
    "    for i in range(1,len(a)):\n",
    "        x[a[i]] = x[a[i]].astype(int, errors = 'raise')\n",
    "    return x"
   ]
  },
  {
   "cell_type": "code",
   "execution_count": 7,
   "id": "0859a481",
   "metadata": {},
   "outputs": [],
   "source": [
    "#convertendo valores do dataframe para Int\n",
    "#base_1=para_numero(base_1)\n",
    "#base_1.info()"
   ]
  },
  {
   "cell_type": "markdown",
   "id": "60b0efae",
   "metadata": {},
   "source": [
    "# Parte 3: extrair os nomes dos grupos (aeroportos)"
   ]
  },
  {
   "cell_type": "code",
   "execution_count": 8,
   "id": "c4560f8c",
   "metadata": {},
   "outputs": [],
   "source": [
    "#inicia no 0\n",
    "#pula 8 + 1 (conjunto aberto)\n",
    "#valor final: total de linhas - 8\n",
    "def nome_aeroportos(base_1): #recebe um dataframe\n",
    "    endereco_final=base_1.shape[0]-8\n",
    "    airport=[]\n",
    "    position_airport=[]\n",
    "    pouso_und={}\n",
    "    for i in range(0,base_1.shape[0],9):\n",
    "        if i<=endereco_final:\n",
    "            a=base_1.iloc[i,0]\n",
    "            airport.append(a)\n",
    "            position_airport.append(i) #guarda a posição no data frame\n",
    "        else:\n",
    "            break\n",
    "    return airport, position_airport\n",
    "#variável airport contém os nomes dos aeroportos descritos no período (mensal)"
   ]
  },
  {
   "cell_type": "markdown",
   "id": "83e04991",
   "metadata": {},
   "source": [
    "# Parte 4: coletando dados de pousos mensais"
   ]
  },
  {
   "cell_type": "markdown",
   "id": "bface5ce",
   "metadata": {},
   "source": [
    "4.1 Somatória por aeroporto (pouso_und)"
   ]
  },
  {
   "cell_type": "code",
   "execution_count": 9,
   "id": "6b2bbff6",
   "metadata": {},
   "outputs": [],
   "source": [
    "#Faremos um dicionário contendo total de pousos no mês\n",
    "#chave é o aeroporto; valor é o total de pousos\n",
    "#dict[ key ] = value\n",
    "def pouso_por_aeroporto(airport,position_airport,base_1):\n",
    "    pouso_und={}\n",
    "    for i in range(len(airport)):\n",
    "        linha=position_airport[i]\n",
    "        total_pouso=base_1.iloc[linha,1]\n",
    "        pouso_und[airport[i]]=total_pouso\n",
    "    return pouso_und"
   ]
  },
  {
   "cell_type": "code",
   "execution_count": 10,
   "id": "769ddd6e",
   "metadata": {},
   "outputs": [],
   "source": [
    "#tutorial dicionário Python da Kenzie Academy\n",
    "#https://kenzie.com.br/blog/dicionario-python/#:~:text=Para%20criar%20um%20dicion%C3%A1rio%20em,armazenados%20de%20forma%20n%C3%A3o%20ordenada."
   ]
  },
  {
   "cell_type": "markdown",
   "id": "0b747854",
   "metadata": {},
   "source": [
    "4.2 Somar total de pousos nos aeroportos no mês (total_pouso)"
   ]
  },
  {
   "cell_type": "code",
   "execution_count": 11,
   "id": "2868089b",
   "metadata": {},
   "outputs": [],
   "source": [
    "def pouso_total_mes(pouso_und): #recebe um dicionário\n",
    "    total_pouso = sum(pouso_und.values())\n",
    "    return total_pouso"
   ]
  },
  {
   "cell_type": "markdown",
   "id": "cb00bafb",
   "metadata": {},
   "source": [
    "# Parte 5: Coletando dados de decolagem mensal"
   ]
  },
  {
   "cell_type": "markdown",
   "id": "e819b033",
   "metadata": {},
   "source": [
    "4.1 Somatória por aeroporto (decolagem_und)"
   ]
  },
  {
   "cell_type": "code",
   "execution_count": 12,
   "id": "ffc27937",
   "metadata": {},
   "outputs": [],
   "source": [
    "#Faremos um dicionário contendo total de decolagens no mês\n",
    "#chave é o aeroporto; valor é o total de decolagens\n",
    "#dict[ key ] = value\n",
    "def decolar_por_aeroporto(airport,position_airport,base_1):\n",
    "    decolagem_und={}\n",
    "    for i in range(len(airport)):\n",
    "        linha=position_airport[i]\n",
    "        total_decolagem=base_1.iloc[linha,3]\n",
    "        decolagem_und[airport[i]]=total_decolagem\n",
    "    return decolagem_und"
   ]
  },
  {
   "cell_type": "markdown",
   "id": "b5c74031",
   "metadata": {},
   "source": [
    "4.2 Somar total de decolagens nos aeroportos no mês (total_decolagem)"
   ]
  },
  {
   "cell_type": "code",
   "execution_count": 13,
   "id": "314f5e58",
   "metadata": {},
   "outputs": [],
   "source": [
    "def decolar_total_mes(decolagem_und):\n",
    "    total_decolagem = sum(decolagem_und.values())\n",
    "    return total_decolagem"
   ]
  },
  {
   "cell_type": "markdown",
   "id": "ba664292",
   "metadata": {},
   "source": [
    "# Parte 6: Salvar o período do dado"
   ]
  },
  {
   "cell_type": "code",
   "execution_count": 14,
   "id": "106ccdd0",
   "metadata": {},
   "outputs": [],
   "source": [
    "def mes_referencia(z,y):\n",
    "    send_data=z[-10:] #data em que a infraero terminou de montar a planilha; considero esta data como sendo a data de envio para o site\n",
    "    a=send_data[3:5]\n",
    "    mes_dado=int(a)-1\n",
    "    ano_dado=y[-4:]\n",
    "    periodo_ref=str(mes_dado)+\"/\"+ano_dado\n",
    "    return periodo_ref"
   ]
  },
  {
   "cell_type": "markdown",
   "id": "da1b7d54",
   "metadata": {},
   "source": [
    "# Parte 7: Salvando pousos e decolagem mensais em um dataframe com todo o historico"
   ]
  },
  {
   "cell_type": "markdown",
   "id": "5bf9aca8",
   "metadata": {},
   "source": [
    "# Parte 7.1 Robô para dados da Infraero"
   ]
  },
  {
   "cell_type": "markdown",
   "id": "15a19497",
   "metadata": {},
   "source": [
    "Tutoriais"
   ]
  },
  {
   "cell_type": "code",
   "execution_count": 15,
   "id": "a048b862",
   "metadata": {},
   "outputs": [
    {
     "data": {
      "text/plain": [
       "'https://imasters.com.br/back-end/aprendendo-sobre-web-scraping-em-python-utilizando-beautifulsoup'"
      ]
     },
     "execution_count": 15,
     "metadata": {},
     "output_type": "execute_result"
    }
   ],
   "source": [
    "\"https://www.youtube.com/watch?v=QdLgNr1mKQU\"\n",
    "\"https://imasters.com.br/back-end/aprendendo-sobre-web-scraping-em-python-utilizando-beautifulsoup\""
   ]
  },
  {
   "cell_type": "code",
   "execution_count": 16,
   "id": "16ff81d6",
   "metadata": {},
   "outputs": [],
   "source": [
    "import requests\n",
    "from bs4 import BeautifulSoup"
   ]
  },
  {
   "cell_type": "markdown",
   "id": "cc7864d6",
   "metadata": {},
   "source": [
    "# Parte 7.1.1 Capturando o código fonte da página com o Request"
   ]
  },
  {
   "cell_type": "code",
   "execution_count": 17,
   "id": "0d456fcd",
   "metadata": {},
   "outputs": [],
   "source": [
    "link='https://transparencia.infraero.gov.br/estatisticas/'"
   ]
  },
  {
   "cell_type": "code",
   "execution_count": 18,
   "id": "2857d16a",
   "metadata": {},
   "outputs": [],
   "source": [
    "infraero=requests.get(link) #faz a requisição da página HTNL\n",
    "#infraero.status_code informa se a requisição foi um sucesso (200)\n",
    "#infraero.content mostra o conteúdo da página (código)"
   ]
  },
  {
   "cell_type": "markdown",
   "id": "1040b822",
   "metadata": {},
   "source": [
    "# Parte 7.1.2 Decodificando o conteúdo da página com BeautifulSoup"
   ]
  },
  {
   "cell_type": "code",
   "execution_count": 19,
   "id": "4ac008f7",
   "metadata": {},
   "outputs": [
    {
     "data": {
      "text/plain": [
       "[bs4.element.Doctype,\n",
       " bs4.element.NavigableString,\n",
       " bs4.element.Tag,\n",
       " bs4.element.NavigableString]"
      ]
     },
     "execution_count": 19,
     "metadata": {},
     "output_type": "execute_result"
    }
   ],
   "source": [
    "#vamos criar uma instância da classe Beautifulsoup\n",
    "soup = BeautifulSoup(infraero.content, 'html.parser')\n",
    "\n",
    "#exibe o conteúdo da página formatado corretamente\n",
    "#print(soup.prettify())\n",
    "\n",
    "#retorna os níveis mais altos da página\n",
    "#list(soup.children)\n",
    "\n",
    "#vamos ver o tipo de cada elemento na lista\n",
    "[type(item) for item in list(soup.children)]"
   ]
  },
  {
   "cell_type": "code",
   "execution_count": 20,
   "id": "e3cf30b8",
   "metadata": {
    "scrolled": false
   },
   "outputs": [],
   "source": [
    "#Como o elemento Tag é o mais importante é com ele que iremos trabalhar\n",
    "html = list(soup.children)[2]\n",
    "#como cada elemento em html é do tipo BS4 utilizaremos o mesmo esquema com children  \n",
    "#list(html.children)\n",
    "#[type(item) for item in list(html.children)] aqui descobrimos quantas tag nos temos\n",
    "\n",
    "body = list(html.children)[3]"
   ]
  },
  {
   "cell_type": "markdown",
   "id": "bb0ff04a",
   "metadata": {},
   "source": [
    "# Parte 7.1.3 Capturando um índice sobre os atributos dos dados da Infraero"
   ]
  },
  {
   "cell_type": "code",
   "execution_count": 21,
   "id": "0b5e4345",
   "metadata": {},
   "outputs": [
    {
     "data": {
      "text/plain": [
       "['Transporte Regular: voo efetuado com a existência de HOTRAN, assim definido pelo órgão regulador de acordo com a Portaria Nº 569/GC5, de 05/09/2000.',\n",
       " 'Transporte Não Regular: voo comercial efetuado por qualquer aeronave sem a existência de HOTRAN.',\n",
       " 'Passageiros Embarcados: passageiros de origem, que iniciam a viagem no aeroporto, somados aos passageiros em conexão.',\n",
       " 'Passageiros Desembarcados: passageiros de destino, que terminam a viagem no aeroporto, somados aos passageiros em conexão.',\n",
       " 'Passageiros de Cabotagem: passageiros domésticos transportados em voo internacional.']"
      ]
     },
     "execution_count": 21,
     "metadata": {},
     "output_type": "execute_result"
    }
   ],
   "source": [
    "#1. Capturar um manual sobre os atributos dos dados\n",
    "lista_ul=[]\n",
    "for i in body.find_all('ul'):\n",
    "    lista_ul.append(i.get_text())\n",
    "    #print(f\"{i.get_text()}\\n\")\n",
    "manual=lista_ul[21].split(\"\\n\") #dados separados por \\n\n",
    "manual=manual[1:6]\n",
    "manual"
   ]
  },
  {
   "cell_type": "markdown",
   "id": "cd3b2c60",
   "metadata": {},
   "source": [
    "# Parte 7.1.4 Capturando os links"
   ]
  },
  {
   "cell_type": "code",
   "execution_count": 22,
   "id": "7f22cfd6",
   "metadata": {},
   "outputs": [],
   "source": [
    "link_url=[]\n",
    "for i in body.find_all('tbody'):\n",
    "    link_url.append(i)\n",
    "    #print(f\"{i}\\n\")\n",
    "#str(link_url[0])"
   ]
  },
  {
   "cell_type": "code",
   "execution_count": 23,
   "id": "a4d8723b",
   "metadata": {},
   "outputs": [],
   "source": [
    "link_string=str(link_url[0])"
   ]
  },
  {
   "cell_type": "code",
   "execution_count": 24,
   "id": "f7042a2f",
   "metadata": {},
   "outputs": [],
   "source": [
    "#Capturando uma lista com os anos\n",
    "ano=[]\n",
    "atual=2022 # dar algum jeito de automatizar\n",
    "comeco=2012\n",
    "for i in range(atual-comeco+1):\n",
    "    ano.append(i+comeco)"
   ]
  },
  {
   "cell_type": "code",
   "execution_count": 25,
   "id": "1fbbcaa0",
   "metadata": {},
   "outputs": [],
   "source": [
    "c = 'href='\n",
    "d=\"/wp\"\n",
    "e=\".xlsx\"\n",
    "f=\".xls\"\n",
    "segundo=0\n",
    "count=0\n",
    "link=[]\n",
    "tempo=len(link_string)    \n",
    "recarregar_texto=link_string\n",
    "\n",
    "\n",
    "while count<=tempo:\n",
    "    if count==0:\n",
    "        s = recarregar_texto[segundo:]#parte do texto de inicio em cada rodada\n",
    "    else:\n",
    "        s = recarregar_texto        \n",
    "    try:\n",
    "        a=s.index(c)\n",
    "    except:\n",
    "        break\n",
    "    #link_string[a:a+5]\n",
    "    novo_texto=recarregar_texto[a:]#vamos pegar de href= em diante (até o final)\n",
    "    try:\n",
    "        primeiro=novo_texto.index(d)\n",
    "        segundo=novo_texto.index(e)\n",
    "    except:\n",
    "        segundo=novo_texto.index(f)\n",
    "    endereco=novo_texto[primeiro:segundo+5]\n",
    "    link.append(endereco)\n",
    "    recarregar_texto=novo_texto[segundo:]\n",
    "    count+=1\n",
    "\n",
    "\n",
    "#corta tudo atrás do 51\n",
    "#acha a posição do primeiro\"\n",
    "#acha a posição de .xlsx\"\n",
    "#teria que começar a partir do segundo em cada rodada para não repetir"
   ]
  },
  {
   "cell_type": "markdown",
   "id": "b814f943",
   "metadata": {},
   "source": [
    "# Iniciando chamadas"
   ]
  },
  {
   "cell_type": "code",
   "execution_count": 26,
   "id": "74a84b1f",
   "metadata": {},
   "outputs": [],
   "source": [
    "#variáveis com somatórios de todos os aeroportos\n",
    "pouso_brasil={}\n",
    "decolagem_brasil={}\n",
    "cabeca=\"https://transparencia.infraero.gov.br\"\n",
    "pouso=[]\n",
    "decolagem=[]"
   ]
  },
  {
   "cell_type": "code",
   "execution_count": 27,
   "id": "c3ad5ad5",
   "metadata": {},
   "outputs": [
    {
     "name": "stdout",
     "output_type": "stream",
     "text": [
      "7/2022\n",
      "7/2022\n",
      "7/2022\n",
      "7/2022\n",
      "7/2022\n",
      "7/2022\n",
      "7/2022\n",
      "8/2022\n",
      "1/2021\n",
      "1/2021\n",
      "1/2021\n",
      "1/2021\n",
      "1/2021\n",
      "1/2021\n",
      "1/2021\n",
      "1/2021\n",
      "1/2021\n",
      "1/2021\n",
      "1/2021\n",
      "1/2021\n",
      "9/2020\n",
      "9/2020\n",
      "9/2020\n",
      "9/2020\n",
      "9/2020\n",
      "9/2020\n",
      "9/2020\n",
      "9/2020\n",
      "9/2020\n",
      "9/2020\n",
      "9/2020\n",
      "9/2020\n",
      "1/2019\n",
      "1/2019\n",
      "1/2019\n",
      "1/2019\n",
      "1/2019\n",
      "1/2019\n",
      "1/2019\n",
      "1/2019\n",
      "1/2019\n",
      "1/2019\n",
      "1/2019\n",
      "1/2019\n"
     ]
    }
   ],
   "source": [
    "#motor do robô\n",
    "#trazendo a base da internet\n",
    "\n",
    "for i in range(len(link)):\n",
    "    try:\n",
    "        base=pd.read_excel(cabeca+link[i],sheet_name=\"Aeronaves\") #abrindo aba 1: Aeronaves\n",
    "        #1. Limpeza de dados\n",
    "        base,vigencia_dados,elaborada_dados=limpeza_dados(base)\n",
    "        base=remove_vazio(base)\n",
    "        base=para_numero(base)\n",
    "        # 2. Nome e posição dos aeroportos na base\n",
    "        aeroportos, index_air=nome_aeroportos(base) #lista dos aeroportos e um indice deles no dataframe original\n",
    "        # 3. Dados de pousos mensais\n",
    "        pouso_und=pouso_por_aeroporto(aeroportos,index_air,base)#dicionrio com dados para cada aeroporto\n",
    "        total_pouso=pouso_total_mes(pouso_und) #número de pousos no mes\n",
    "        # 4. Dados de decolaagem mensais\n",
    "        decolagem_und=decolar_por_aeroporto(aeroportos,index_air,base)\n",
    "        total_decolagem=decolar_total_mes(decolagem_und)\n",
    "        # 5. Salvando o período do dado\n",
    "        periodo_ref=mes_referencia(elaborada_dados,vigencia_dados)\n",
    "        print(periodo_ref)\n",
    "        #6. salvando um série histórica do número de pousos e decolagem mensais totais\n",
    "        #pouso_brasil[periodo_ref]=total_pouso\n",
    "        #decolagem_brasil[periodo_ref]=total_decolagem\n",
    "        pouso.append(total_pouso)\n",
    "        decolagem.append(total_decolagem)\n",
    "    except:\n",
    "        continue"
   ]
  },
  {
   "cell_type": "markdown",
   "id": "d0648cd0",
   "metadata": {},
   "source": [
    "Pousos"
   ]
  },
  {
   "cell_type": "markdown",
   "id": "5fc78dc2",
   "metadata": {},
   "source": [
    "#Acima precisamos ver porque não está saindo do mes de julho "
   ]
  },
  {
   "cell_type": "markdown",
   "id": "77f87335",
   "metadata": {},
   "source": [
    "# Vizualização gráfica"
   ]
  },
  {
   "cell_type": "code",
   "execution_count": 28,
   "id": "edb3e186",
   "metadata": {},
   "outputs": [],
   "source": [
    "import matplotlib.pyplot as plt"
   ]
  },
  {
   "cell_type": "code",
   "execution_count": 29,
   "id": "1337ed97",
   "metadata": {
    "scrolled": true
   },
   "outputs": [
    {
     "data": {
      "text/plain": [
       "<BarContainer object of 54 artists>"
      ]
     },
     "execution_count": 29,
     "metadata": {},
     "output_type": "execute_result"
    },
    {
     "data": {
      "image/png": "[encoded data removed]",
      "text/plain": [
       "<Figure size 432x288 with 1 Axes>"
      ]
     },
     "metadata": {
      "needs_background": "light"
     },
     "output_type": "display_data"
    }
   ],
   "source": [
    "plt.bar(pouso_und.keys(),pouso_und.values())"
   ]
  },
  {
   "cell_type": "code",
   "execution_count": 30,
   "id": "4ca82f56",
   "metadata": {},
   "outputs": [
    {
     "name": "stdout",
     "output_type": "stream",
     "text": [
      "44\n",
      "44\n",
      "144\n"
     ]
    }
   ],
   "source": [
    "print(len(pouso))\n",
    "print(len(decolagem))\n",
    "print(len(link))"
   ]
  },
  {
   "cell_type": "code",
   "execution_count": 31,
   "id": "db4eb79d",
   "metadata": {},
   "outputs": [
    {
     "data": {
      "image/png": "[encoded data removed]",
      "text/plain": [
       "<Figure size 432x288 with 1 Axes>"
      ]
     },
     "metadata": {
      "needs_background": "light"
     },
     "output_type": "display_data"
    }
   ],
   "source": [
    "plt.plot(pouso)\n",
    "#plt.plot(decolagem)\n",
    "plt.show()"
   ]
  },
  {
   "cell_type": "code",
   "execution_count": 32,
   "id": "2126bcf0",
   "metadata": {},
   "outputs": [
    {
     "data": {
      "image/png": "[encoded data removed]",
      "text/plain": [
       "<Figure size 432x288 with 1 Axes>"
      ]
     },
     "metadata": {
      "needs_background": "light"
     },
     "output_type": "display_data"
    },
    {
     "name": "stdout",
     "output_type": "stream",
     "text": [
      "Diferença entre decolagem e pouso: 296\n"
     ]
    }
   ],
   "source": [
    "plt.bar(\"Pouso\",total_pouso)\n",
    "plt.bar(\"Decolagem\",total_decolagem)\n",
    "plt.show()\n",
    "print(f\"Diferença entre decolagem e pouso: {total_decolagem-total_pouso}\")"
   ]
  }
 ],
 "metadata": {
  "kernelspec": {
   "display_name": "Python 3 (ipykernel)",
   "language": "python",
   "name": "python3"
  },
  "language_info": {
   "codemirror_mode": {
    "name": "ipython",
    "version": 3
   },
   "file_extension": ".py",
   "mimetype": "text/x-python",
   "name": "python",
   "nbconvert_exporter": "python",
   "pygments_lexer": "ipython3",
   "version": "3.9.12"
  }
 },
 "nbformat": 4,
 "nbformat_minor": 5
}
